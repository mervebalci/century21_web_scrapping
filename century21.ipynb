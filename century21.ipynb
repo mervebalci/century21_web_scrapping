{
 "cells": [
  {
   "cell_type": "code",
   "execution_count": 1,
   "id": "631aa430",
   "metadata": {},
   "outputs": [],
   "source": [
    "import requests\n",
    "from bs4 import BeautifulSoup"
   ]
  },
  {
   "cell_type": "code",
   "execution_count": 2,
   "id": "7e433496",
   "metadata": {},
   "outputs": [],
   "source": [
    "# This website has 3 pages. Let's load the first page and then write a loop to iterate through the next pages.\n",
    "r = requests.get(\"https://pythonizing.github.io/data/real-estate/rock-springs-wy/LCWYROCKSPRINGS/\")"
   ]
  },
  {
   "cell_type": "code",
   "execution_count": 3,
   "id": "ba583401",
   "metadata": {},
   "outputs": [],
   "source": [
    "# Content of this requests object\n",
    "c = r.content"
   ]
  },
  {
   "cell_type": "code",
   "execution_count": 4,
   "id": "da29d799",
   "metadata": {},
   "outputs": [],
   "source": [
    "# Making the content readable\n",
    "soup = BeautifulSoup(c, \"html.parser\")"
   ]
  },
  {
   "cell_type": "code",
   "execution_count": 5,
   "id": "e37bf827",
   "metadata": {},
   "outputs": [],
   "source": [
    "# To understand the structure of the webpage, need to use the inspect tool in the browser"
   ]
  },
  {
   "cell_type": "code",
   "execution_count": 6,
   "id": "27c2aabd",
   "metadata": {},
   "outputs": [],
   "source": [
    "# Using find_all method to generate a list with all the div elements:\n",
    "all = soup.find_all(\"div\", {\"class\":\"propertyRow\"})"
   ]
  },
  {
   "cell_type": "code",
   "execution_count": 7,
   "id": "e4101877",
   "metadata": {},
   "outputs": [
    {
     "data": {
      "text/plain": [
       "bs4.element.ResultSet"
      ]
     },
     "execution_count": 7,
     "metadata": {},
     "output_type": "execute_result"
    }
   ],
   "source": [
    "type(all)"
   ]
  },
  {
   "cell_type": "code",
   "execution_count": 8,
   "id": "14e0d152",
   "metadata": {},
   "outputs": [
    {
     "data": {
      "text/plain": [
       "10"
      ]
     },
     "execution_count": 8,
     "metadata": {},
     "output_type": "execute_result"
    }
   ],
   "source": [
    "# There are 10 property listings for each page is shown with LENGTH Function.\n",
    "len(all)"
   ]
  },
  {
   "cell_type": "code",
   "execution_count": 9,
   "id": "bb0e52c4",
   "metadata": {},
   "outputs": [
    {
     "data": {
      "text/plain": [
       "<div class=\"propertyRow\" id=\"propertyRowREN021201395\" onclick=\"Track.doEvent('Hybrid Mapping', 'Property Center Lane', 'Select a property with brand REN to view details'); document.location.href='/property/0-gateway-rock-springs-wy-82901-REN021201395';\">\n",
       "<div class=\"CenterLaneCardBg CardWrapper propertyCard\" id=\"propertyREN021201395\">\n",
       "<div class=\"CenterLaneCard propertyCard\">\n",
       "<div class=\"CardThumb\">\n",
       "<div class=\"landscapeThumbContainer\">\n",
       "<a href=\"http://web.archive.org/web/20160127020422/http://www.century21.com/property/0-gateway-rock-springs-wy-82901-REN021201395\"><img class=\"lazyLoad\" rel=\"http://www.century21.com/listhub/thumb/130x90/photos.listhub.net/FCBRWY/20156419/1?lm=20151103T230938\" src=\"./LCWYROCKSPRINGS1_files/1\"/></a>\n",
       "</div>\n",
       "</div>\n",
       "<h4 class=\"propPrice\">\n",
       "\n",
       "\n",
       "            $725,000\n",
       "\n",
       "\n",
       "\n",
       "      <span class=\"IconPropertyFavorite16\"></span>\n",
       "</h4>\n",
       "<div class=\"CardDetails\">\n",
       "<div class=\"primaryDetails\">\n",
       "<span class=\"propAddressCollapse\" title=\"0 Gateway\">0 Gateway</span>\n",
       "<span class=\"propAddressCollapse\">Rock Springs, WY 82901</span>\n",
       "<input name=\"shortCurrency\" type=\"hidden\" value=\"$725K\"/>\n",
       "<input name=\"proplongitude\" type=\"hidden\" value=\"-109.248\"/>\n",
       "<input name=\"proplatitude\" type=\"hidden\" value=\"41.5842\"/>\n",
       "</div>\n",
       "<div class=\"secondaryDetails\">\n",
       "<div class=\"infoLine1\">\n",
       "</div>\n",
       "<div class=\"infoLine2\">\n",
       "</div>\n",
       "</div>\n",
       "<div class=\"secondaryHeader\">\n",
       "         Courtesy Of All Broker Realty\n",
       "\n",
       "      </div>\n",
       "</div>\n",
       "</div>\n",
       "<div class=\"CardActions\">\n",
       "<a class=\"CardPhotoCount\" href=\"http://web.archive.org/web/20160127020422/http://www.century21.com/property/0-gateway-rock-springs-wy-82901-REN021201395\">\n",
       "<span class=\"IconPropertyPhotos16\"></span>\n",
       "\n",
       "      1\n",
       "      Image\n",
       "   </a>\n",
       "<a class=\"propertyAction\" href=\"javascript:void(0);\" onclick=\"Track.doEvent('Hybrid Mapping', 'Property Center Lane', 'Hide a property'); myc21.hideProperty('REN021201395', '#propertyRowREN021201395');c21Helpers.stopEvent(event);\" title=\"Hide\">\n",
       "<span class=\"IconActionHide16\"></span><b>Hide</b>\n",
       "</a>\n",
       "<a class=\"propertyAction\" href=\"javascript:void(0);\" onclick=\"Track.doEvent('Hybrid Mapping', 'Property Center Lane', 'Select Contact regarding property'); modalWindows.openPropertyContact('REN021201395', 'MainSearchProperty', '', 'PRP');c21Helpers.stopEvent(event);\" title=\"Contact\">\n",
       "<span class=\"IconActionContact16\"></span><b>Contact</b>\n",
       "</a>\n",
       "<a class=\"propertyAction removeFavorite\" href=\"javascript:void(0);\" onclick=\"Track.doEvent('Hybrid Mapping', 'Property Center Lane', 'Remove a favorite property'); myc21.unfavoriteProperty('REN021201395', '#propertyREN021201395');c21Helpers.stopEvent(event);\" title=\"Remove Favorite\">\n",
       "<span class=\"IconActionRemoveFavorite16\"></span>Remove Favorite\n",
       "         </a>\n",
       "<a class=\"propertyAction addFavorite\" href=\"javascript:void(0);\" onclick=\"Track.doEvent('Hybrid Mapping', 'Property Center Lane', 'Add a favorite property'); myc21.favoriteProperty('REN021201395', '#propertyREN021201395', '3yd-FCBRWY-20156419');c21Helpers.stopEvent(event);\" title=\"Add to Favorites\">\n",
       "<span class=\"IconActionAddFavorite16\"></span><b>Add as Favorite</b>\n",
       "</a>\n",
       "</div>\n",
       "<div class=\"hiddenListItem\">\n",
       "<a href=\"javascript:void(0);\" onclick=\"Track.doEvent('Hybrid Mapping', 'Property Center Lane', 'Un-Hide a property');myc21.unhideProperty('REN021201395', '#propertyRowREN021201395');c21Helpers.stopEvent(event);\" title=\"0 Gateway, Rock Springs, WY 82901 | $725,000\">\n",
       "<span class=\"IconActionUnhide16\"></span>\n",
       "</a>\n",
       "<a class=\"propAddressHide\" href=\"javascript:void(0);\" onclick=\"Track.doEvent('Hybrid Mapping', 'Property Center Lane', 'Un-Hide a property');myc21.unhideProperty('REN021201395', '#propertyRowREN021201395');c21Helpers.stopEvent(event);\" title=\"0 Gateway, Rock Springs, WY 82901 | $725,000\">\n",
       "      Unhide Property: 0 Gateway, Rock Springs, WY 82901 | $725,000\n",
       "   </a>\n",
       "</div>\n",
       "<div class=\"clear\"></div>\n",
       "</div>\n",
       "<div class=\"propertyDetails\">\n",
       "<div class=\"invisibleFloat\"></div>\n",
       "<div class=\"propertyDetailPhotos\" id=\"propertyRowREN021201395propertyDetailPhotos\">\n",
       "<div class=\"photoFlow last\">\n",
       "<div class=\"landscapeThumbContainer\">\n",
       "<a href=\"http://web.archive.org/web/20160127020422/http://www.century21.com/property/0-gateway-rock-springs-wy-82901-REN021201395?g=0\" title=\"\"><img rel=\"http://www.century21.com/listhub/thumb/130x90/photos.listhub.net/FCBRWY/20156419/1?lm=20151103T230938\" src=\"./LCWYROCKSPRINGS1_files/loadingimage39x30.png\"/></a>\n",
       "</div>\n",
       "</div>\n",
       "<div class=\"propertyMLS\">MLS#\n",
       "\n",
       "                        20156419\n",
       "\n",
       "                  </div>\n",
       "</div>\n",
       "<div class=\"propertyDescription\" id=\"propertyRowREN021201395propertyDescription\">\n",
       "<span class=\"propDescHeader\">PROPERTY DESCRIPTION: </span>\n",
       "<div class=\"propertyDescCollapse collapsed\" expandlink=\"/property/0-gateway-rock-springs-wy-82901-REN021201395\" id=\"propertyRowREN021201395propertyDescCollapse\" style=\"display: block;\"> This Location could be used for almost anything, close to Hospital, Residential, Great possibilities </div>\n",
       "</div>\n",
       "<div class=\"propertyFeatures\" id=\"propertyRowREN021201395propertyFeatures\">\n",
       "<div class=\"ui-column\" style=\"float: left; width: 200px; height: 110px;\"><div class=\"columnGroup propFeatureHeader\">FEATURES:</div><div class=\"columnGroup\">\n",
       "<span class=\"featureGroup\">Architecture Style: </span><span class=\"featureName\">Other</span>\n",
       "</div><div class=\"columnGroup\">\n",
       "<span class=\"featureGroup\">Roof Type: </span><span class=\"featureName\">Unknown</span>\n",
       "</div></div></div>\n",
       "</div>\n",
       "</div>"
      ]
     },
     "execution_count": 9,
     "metadata": {},
     "output_type": "execute_result"
    }
   ],
   "source": [
    "# To see the first property listing\n",
    "all[0]"
   ]
  },
  {
   "cell_type": "code",
   "execution_count": 10,
   "id": "18e90422",
   "metadata": {},
   "outputs": [
    {
     "data": {
      "text/plain": [
       "<h4 class=\"propPrice\">\n",
       "\n",
       "\n",
       "            $725,000\n",
       "\n",
       "\n",
       "\n",
       "      <span class=\"IconPropertyFavorite16\"></span>\n",
       "</h4>"
      ]
     },
     "execution_count": 10,
     "metadata": {},
     "output_type": "execute_result"
    }
   ],
   "source": [
    "# Checking the price with find method AS A LIST\n",
    "all[0].find(\"h4\", {\"class\":\"propPrice\"})"
   ]
  },
  {
   "cell_type": "code",
   "execution_count": 11,
   "id": "bd565f91",
   "metadata": {},
   "outputs": [
    {
     "data": {
      "text/plain": [
       "'\\n\\n\\n            $725,000\\n\\n\\n\\n      \\n'"
      ]
     },
     "execution_count": 11,
     "metadata": {},
     "output_type": "execute_result"
    }
   ],
   "source": [
    "# Getting the price AS A TEXT\n",
    "all[0].find(\"h4\", {\"class\":\"propPrice\"}).text"
   ]
  },
  {
   "cell_type": "code",
   "execution_count": 12,
   "id": "5a03df5e",
   "metadata": {},
   "outputs": [
    {
     "data": {
      "text/plain": [
       "str"
      ]
     },
     "execution_count": 12,
     "metadata": {},
     "output_type": "execute_result"
    }
   ],
   "source": [
    "# It is obvious that this whole code is string\n",
    "type(all[0].find(\"h4\", {\"class\":\"propPrice\"}).text)"
   ]
  },
  {
   "cell_type": "code",
   "execution_count": 13,
   "id": "658a7f29",
   "metadata": {},
   "outputs": [
    {
     "data": {
      "text/plain": [
       "'$725,000'"
      ]
     },
     "execution_count": 13,
     "metadata": {},
     "output_type": "execute_result"
    }
   ],
   "source": [
    "# To remove all those \\n\\n\\n\n",
    "all[0].find(\"h4\", {\"class\":\"propPrice\"}).text.replace(\"\\n\",\"\").replace(\" \",\"\")"
   ]
  }
 ],
 "metadata": {
  "interpreter": {
   "hash": "e89ee5dadf05315dd55930bef42e12789955ca179309db11dfe4d2fe79967c6f"
  },
  "kernelspec": {
   "display_name": "Python 3.10.1 64-bit",
   "language": "python",
   "name": "python3"
  },
  "language_info": {
   "codemirror_mode": {
    "name": "ipython",
    "version": 3
   },
   "file_extension": ".py",
   "mimetype": "text/x-python",
   "name": "python",
   "nbconvert_exporter": "python",
   "pygments_lexer": "ipython3",
   "version": "3.10.1"
  }
 },
 "nbformat": 4,
 "nbformat_minor": 5
}
