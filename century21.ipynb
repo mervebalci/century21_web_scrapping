{
 "cells": [
  {
   "cell_type": "code",
   "execution_count": 2,
   "id": "631aa430",
   "metadata": {},
   "outputs": [],
   "source": [
    "import requests\n",
    "from bs4 import BeautifulSoup"
   ]
  },
  {
   "cell_type": "code",
   "execution_count": 3,
   "id": "7e433496",
   "metadata": {},
   "outputs": [],
   "source": [
    "# This website has 3 pages. Let's load the first page and then write a loop to iterate through the next pages.\n",
    "r = requests.get(\"https://pythonizing.github.io/data/real-estate/rock-springs-wy/LCWYROCKSPRINGS/\")"
   ]
  },
  {
   "cell_type": "code",
   "execution_count": 4,
   "id": "ba583401",
   "metadata": {},
   "outputs": [],
   "source": [
    "# Content of this requests object\n",
    "c = r.content"
   ]
  },
  {
   "cell_type": "code",
   "execution_count": 5,
   "id": "da29d799",
   "metadata": {},
   "outputs": [],
   "source": [
    "# Making the content readable\n",
    "soup = BeautifulSoup(c, \"html.parser\")"
   ]
  },
  {
   "cell_type": "code",
   "execution_count": 6,
   "id": "e37bf827",
   "metadata": {},
   "outputs": [],
   "source": [
    "# To understand the structure of the webpage, need to use the inspect tool in the browser"
   ]
  },
  {
   "cell_type": "code",
   "execution_count": 7,
   "id": "27c2aabd",
   "metadata": {},
   "outputs": [],
   "source": [
    "# Using find_all method to generate a list with all the div elements:\n",
    "all = soup.find_all(\"div\", {\"class\":\"propertyRow\"})"
   ]
  },
  {
   "cell_type": "code",
   "execution_count": 8,
   "id": "e4101877",
   "metadata": {},
   "outputs": [
    {
     "data": {
      "text/plain": [
       "bs4.element.ResultSet"
      ]
     },
     "execution_count": 8,
     "metadata": {},
     "output_type": "execute_result"
    }
   ],
   "source": [
    "type(all)"
   ]
  },
  {
   "cell_type": "code",
   "execution_count": 9,
   "id": "14e0d152",
   "metadata": {},
   "outputs": [
    {
     "data": {
      "text/plain": [
       "10"
      ]
     },
     "execution_count": 9,
     "metadata": {},
     "output_type": "execute_result"
    }
   ],
   "source": [
    "# There are 10 property listings for each page is shown with LENGTH Function.\n",
    "len(all)"
   ]
  },
  {
   "cell_type": "code",
   "execution_count": 10,
   "id": "bb0e52c4",
   "metadata": {},
   "outputs": [
    {
     "data": {
      "text/plain": [
       "<div class=\"propertyRow\" id=\"propertyRowREN021201395\" onclick=\"Track.doEvent('Hybrid Mapping', 'Property Center Lane', 'Select a property with brand REN to view details'); document.location.href='/property/0-gateway-rock-springs-wy-82901-REN021201395';\">\n",
       "<div class=\"CenterLaneCardBg CardWrapper propertyCard\" id=\"propertyREN021201395\">\n",
       "<div class=\"CenterLaneCard propertyCard\">\n",
       "<div class=\"CardThumb\">\n",
       "<div class=\"landscapeThumbContainer\">\n",
       "<a href=\"http://web.archive.org/web/20160127020422/http://www.century21.com/property/0-gateway-rock-springs-wy-82901-REN021201395\"><img class=\"lazyLoad\" rel=\"http://www.century21.com/listhub/thumb/130x90/photos.listhub.net/FCBRWY/20156419/1?lm=20151103T230938\" src=\"./LCWYROCKSPRINGS1_files/1\"/></a>\n",
       "</div>\n",
       "</div>\n",
       "<h4 class=\"propPrice\">\n",
       "\n",
       "\n",
       "            $725,000\n",
       "\n",
       "\n",
       "\n",
       "      <span class=\"IconPropertyFavorite16\"></span>\n",
       "</h4>\n",
       "<div class=\"CardDetails\">\n",
       "<div class=\"primaryDetails\">\n",
       "<span class=\"propAddressCollapse\" title=\"0 Gateway\">0 Gateway</span>\n",
       "<span class=\"propAddressCollapse\">Rock Springs, WY 82901</span>\n",
       "<input name=\"shortCurrency\" type=\"hidden\" value=\"$725K\"/>\n",
       "<input name=\"proplongitude\" type=\"hidden\" value=\"-109.248\"/>\n",
       "<input name=\"proplatitude\" type=\"hidden\" value=\"41.5842\"/>\n",
       "</div>\n",
       "<div class=\"secondaryDetails\">\n",
       "<div class=\"infoLine1\">\n",
       "</div>\n",
       "<div class=\"infoLine2\">\n",
       "</div>\n",
       "</div>\n",
       "<div class=\"secondaryHeader\">\n",
       "         Courtesy Of All Broker Realty\n",
       "\n",
       "      </div>\n",
       "</div>\n",
       "</div>\n",
       "<div class=\"CardActions\">\n",
       "<a class=\"CardPhotoCount\" href=\"http://web.archive.org/web/20160127020422/http://www.century21.com/property/0-gateway-rock-springs-wy-82901-REN021201395\">\n",
       "<span class=\"IconPropertyPhotos16\"></span>\n",
       "\n",
       "      1\n",
       "      Image\n",
       "   </a>\n",
       "<a class=\"propertyAction\" href=\"javascript:void(0);\" onclick=\"Track.doEvent('Hybrid Mapping', 'Property Center Lane', 'Hide a property'); myc21.hideProperty('REN021201395', '#propertyRowREN021201395');c21Helpers.stopEvent(event);\" title=\"Hide\">\n",
       "<span class=\"IconActionHide16\"></span><b>Hide</b>\n",
       "</a>\n",
       "<a class=\"propertyAction\" href=\"javascript:void(0);\" onclick=\"Track.doEvent('Hybrid Mapping', 'Property Center Lane', 'Select Contact regarding property'); modalWindows.openPropertyContact('REN021201395', 'MainSearchProperty', '', 'PRP');c21Helpers.stopEvent(event);\" title=\"Contact\">\n",
       "<span class=\"IconActionContact16\"></span><b>Contact</b>\n",
       "</a>\n",
       "<a class=\"propertyAction removeFavorite\" href=\"javascript:void(0);\" onclick=\"Track.doEvent('Hybrid Mapping', 'Property Center Lane', 'Remove a favorite property'); myc21.unfavoriteProperty('REN021201395', '#propertyREN021201395');c21Helpers.stopEvent(event);\" title=\"Remove Favorite\">\n",
       "<span class=\"IconActionRemoveFavorite16\"></span>Remove Favorite\n",
       "         </a>\n",
       "<a class=\"propertyAction addFavorite\" href=\"javascript:void(0);\" onclick=\"Track.doEvent('Hybrid Mapping', 'Property Center Lane', 'Add a favorite property'); myc21.favoriteProperty('REN021201395', '#propertyREN021201395', '3yd-FCBRWY-20156419');c21Helpers.stopEvent(event);\" title=\"Add to Favorites\">\n",
       "<span class=\"IconActionAddFavorite16\"></span><b>Add as Favorite</b>\n",
       "</a>\n",
       "</div>\n",
       "<div class=\"hiddenListItem\">\n",
       "<a href=\"javascript:void(0);\" onclick=\"Track.doEvent('Hybrid Mapping', 'Property Center Lane', 'Un-Hide a property');myc21.unhideProperty('REN021201395', '#propertyRowREN021201395');c21Helpers.stopEvent(event);\" title=\"0 Gateway, Rock Springs, WY 82901 | $725,000\">\n",
       "<span class=\"IconActionUnhide16\"></span>\n",
       "</a>\n",
       "<a class=\"propAddressHide\" href=\"javascript:void(0);\" onclick=\"Track.doEvent('Hybrid Mapping', 'Property Center Lane', 'Un-Hide a property');myc21.unhideProperty('REN021201395', '#propertyRowREN021201395');c21Helpers.stopEvent(event);\" title=\"0 Gateway, Rock Springs, WY 82901 | $725,000\">\n",
       "      Unhide Property: 0 Gateway, Rock Springs, WY 82901 | $725,000\n",
       "   </a>\n",
       "</div>\n",
       "<div class=\"clear\"></div>\n",
       "</div>\n",
       "<div class=\"propertyDetails\">\n",
       "<div class=\"invisibleFloat\"></div>\n",
       "<div class=\"propertyDetailPhotos\" id=\"propertyRowREN021201395propertyDetailPhotos\">\n",
       "<div class=\"photoFlow last\">\n",
       "<div class=\"landscapeThumbContainer\">\n",
       "<a href=\"http://web.archive.org/web/20160127020422/http://www.century21.com/property/0-gateway-rock-springs-wy-82901-REN021201395?g=0\" title=\"\"><img rel=\"http://www.century21.com/listhub/thumb/130x90/photos.listhub.net/FCBRWY/20156419/1?lm=20151103T230938\" src=\"./LCWYROCKSPRINGS1_files/loadingimage39x30.png\"/></a>\n",
       "</div>\n",
       "</div>\n",
       "<div class=\"propertyMLS\">MLS#\n",
       "\n",
       "                        20156419\n",
       "\n",
       "                  </div>\n",
       "</div>\n",
       "<div class=\"propertyDescription\" id=\"propertyRowREN021201395propertyDescription\">\n",
       "<span class=\"propDescHeader\">PROPERTY DESCRIPTION: </span>\n",
       "<div class=\"propertyDescCollapse collapsed\" expandlink=\"/property/0-gateway-rock-springs-wy-82901-REN021201395\" id=\"propertyRowREN021201395propertyDescCollapse\" style=\"display: block;\"> This Location could be used for almost anything, close to Hospital, Residential, Great possibilities </div>\n",
       "</div>\n",
       "<div class=\"propertyFeatures\" id=\"propertyRowREN021201395propertyFeatures\">\n",
       "<div class=\"ui-column\" style=\"float: left; width: 200px; height: 110px;\"><div class=\"columnGroup propFeatureHeader\">FEATURES:</div><div class=\"columnGroup\">\n",
       "<span class=\"featureGroup\">Architecture Style: </span><span class=\"featureName\">Other</span>\n",
       "</div><div class=\"columnGroup\">\n",
       "<span class=\"featureGroup\">Roof Type: </span><span class=\"featureName\">Unknown</span>\n",
       "</div></div></div>\n",
       "</div>\n",
       "</div>"
      ]
     },
     "execution_count": 10,
     "metadata": {},
     "output_type": "execute_result"
    }
   ],
   "source": [
    "# To see the first property listing\n",
    "all[0]"
   ]
  },
  {
   "cell_type": "code",
   "execution_count": 11,
   "id": "18e90422",
   "metadata": {},
   "outputs": [
    {
     "data": {
      "text/plain": [
       "<h4 class=\"propPrice\">\n",
       "\n",
       "\n",
       "            $725,000\n",
       "\n",
       "\n",
       "\n",
       "      <span class=\"IconPropertyFavorite16\"></span>\n",
       "</h4>"
      ]
     },
     "execution_count": 11,
     "metadata": {},
     "output_type": "execute_result"
    }
   ],
   "source": [
    "# Checking the price with FIND METHOD AS A LIST\n",
    "# No need to use find_all, because there is only one <h4> element inside the division\n",
    "# If there is more than one element with the same name inside the division, than use FIND_ALL !!!\n",
    "all[0].find(\"h4\", {\"class\":\"propPrice\"})"
   ]
  },
  {
   "cell_type": "code",
   "execution_count": 12,
   "id": "bd565f91",
   "metadata": {},
   "outputs": [
    {
     "data": {
      "text/plain": [
       "'\\n\\n\\n            $725,000\\n\\n\\n\\n      \\n'"
      ]
     },
     "execution_count": 12,
     "metadata": {},
     "output_type": "execute_result"
    }
   ],
   "source": [
    "# Getting the price AS A TEXT\n",
    "all[0].find(\"h4\", {\"class\":\"propPrice\"}).text"
   ]
  },
  {
   "cell_type": "code",
   "execution_count": 13,
   "id": "5a03df5e",
   "metadata": {},
   "outputs": [
    {
     "data": {
      "text/plain": [
       "str"
      ]
     },
     "execution_count": 13,
     "metadata": {},
     "output_type": "execute_result"
    }
   ],
   "source": [
    "# It shows that this whole code is string\n",
    "type(all[0].find(\"h4\", {\"class\":\"propPrice\"}).text)"
   ]
  },
  {
   "cell_type": "code",
   "execution_count": 14,
   "id": "658a7f29",
   "metadata": {},
   "outputs": [
    {
     "data": {
      "text/plain": [
       "'$725,000'"
      ]
     },
     "execution_count": 14,
     "metadata": {},
     "output_type": "execute_result"
    }
   ],
   "source": [
    "# To remove all those \\n\\n\\n\n",
    "all[0].find(\"h4\", {\"class\":\"propPrice\"}).text.replace(\"\\n\",\"\").replace(\" \",\"\")"
   ]
  },
  {
   "cell_type": "code",
   "execution_count": 23,
   "id": "bdda9280",
   "metadata": {},
   "outputs": [
    {
     "name": "stdout",
     "output_type": "stream",
     "text": [
      "$725,000\n",
      "0 Gateway\n",
      "Rock Springs, WY 82901\n",
      "None\n",
      "None\n",
      "None\n",
      "None\n",
      " \n",
      "$452,900\n",
      "1003 Winchester Blvd.\n",
      "Rock Springs, WY 82901\n",
      "4\n",
      "None\n",
      "4\n",
      "None\n",
      "0.21 Acres\n",
      " \n",
      "$396,900\n",
      "600 Talladega\n",
      "Rock Springs, WY 82901\n",
      "5\n",
      "3,154\n",
      "3\n",
      "None\n",
      " \n",
      "$389,900\n",
      "3239 Spearhead Way\n",
      "Rock Springs, WY 82901\n",
      "4\n",
      "3,076\n",
      "3\n",
      "1\n",
      "Under 1/2 Acre, \n",
      " \n",
      "$254,000\n",
      "522 Emerald Street\n",
      "Rock Springs, WY 82901\n",
      "3\n",
      "1,172\n",
      "3\n",
      "None\n",
      "Under 1/2 Acre, \n",
      " \n",
      "$252,900\n",
      "1302 Veteran's Drive\n",
      "Rock Springs, WY 82901\n",
      "4\n",
      "1,932\n",
      "2\n",
      "None\n",
      "0.27 Acres\n",
      " \n",
      "$210,000\n",
      "1021 Cypress Cir\n",
      "Rock Springs, WY 82901\n",
      "4\n",
      "1,676\n",
      "3\n",
      "None\n",
      "Under 1/2 Acre, \n",
      " \n",
      "$209,000\n",
      "913 Madison Dr\n",
      "Rock Springs, WY 82901\n",
      "3\n",
      "1,344\n",
      "2\n",
      "None\n",
      "Under 1/2 Acre, \n",
      " \n",
      "$199,900\n",
      "1344 Teton Street\n",
      "Rock Springs, WY 82901\n",
      "3\n",
      "1,920\n",
      "2\n",
      "None\n",
      "Under 1/2 Acre, \n",
      " \n",
      "$196,900\n",
      "4 Minnies Lane\n",
      "Rock Springs, WY 82901\n",
      "3\n",
      "1,664\n",
      "2\n",
      "None\n",
      "2.02 Acres\n",
      " \n"
     ]
    }
   ],
   "source": [
    "# The property price, which was dragged, is from the first division (first box) only.\n",
    "# To get all the boxes from the webpage, need to iterate WITH FOR LOOP\n",
    "# If there is only one element with the same name inside the division, use find method\n",
    "# If there is more than one element with same name inside the division, use find_all method\n",
    "# For property price, there is only one <h4> element\n",
    "# For property address, there is more than one of <span> element\n",
    "for item in all:\n",
    "    print(item.find(\"h4\", {\"class\":\"propPrice\"}).text.replace(\"\\n\",\"\").replace(\" \",\"\"))\n",
    "    print(item.find_all(\"span\", {\"class\":\"propAddressCollapse\"})[0].text)\n",
    "    print(item.find_all(\"span\", {\"class\":\"propAddressCollapse\"})[1].text)\n",
    "\n",
    "\n",
    "    # infoBed, infoSqFt, infoValueFullBath and infoValueHalfBath were defined with same <b> element\n",
    "    # Therefore, each <b> element should be find with their class name.\n",
    "    # And some propeties don't have each features, that's why it's better to use TRY-EXCEPT and return it as None if it is blank in the webpage.\n",
    "    try:\n",
    "        print(item.find(\"span\", {\"class\":\"infoBed\"}).find(\"b\").text)\n",
    "    except:\n",
    "        print(None)\n",
    "\n",
    "    try:\n",
    "        print(item.find(\"span\", {\"class\":\"infoSqFt\"}).find(\"b\").text)\n",
    "    except:\n",
    "        print(None)\n",
    "\n",
    "    try:\n",
    "        print(item.find(\"span\", {\"class\":\"infoValueFullBath\"}).find(\"b\").text)\n",
    "    except:\n",
    "        print(None)\n",
    "\n",
    "    try:\n",
    "        print(item.find(\"span\", {\"class\":\"infoValueHalfBath\"}).find(\"b\").text)\n",
    "    except:\n",
    "        print(None)\n",
    "\n",
    "\n",
    "    # When it comes to the features on the right side of the webpage, some properties have lot size, some don't. Some have age, some don't.\n",
    "    # However, every feature was defined with same class name \"featureGroup\" and \"featureName\"\n",
    "    # To seperate the features from each other, need another FOR LOOP\n",
    "    # ZIP function is used to iterate through 2 lists at the same time\n",
    "    for column_group in item.find_all(\"div\", {\"class\":\"columnGroup\"}):\n",
    "        for feature_group, feature_name in zip(column_group.find_all(\"span\", {\"class\":\"featureGroup\"}), column_group.find_all(\"span\", {\"class\":\"featureName\"})):\n",
    "            # If print(feature_group, feature_name), will get all the features, even the hidden features inside the property.\n",
    "            # Better to specify which features that is wanted to get. To do that:\n",
    "            if \"Lot Size\" in feature_group.text:\n",
    "                print(feature_name.text)\n",
    "\n",
    "\n",
    "    print(\" \")"
   ]
  }
 ],
 "metadata": {
  "interpreter": {
   "hash": "e89ee5dadf05315dd55930bef42e12789955ca179309db11dfe4d2fe79967c6f"
  },
  "kernelspec": {
   "display_name": "Python 3.10.1 64-bit",
   "language": "python",
   "name": "python3"
  },
  "language_info": {
   "codemirror_mode": {
    "name": "ipython",
    "version": 3
   },
   "file_extension": ".py",
   "mimetype": "text/x-python",
   "name": "python",
   "nbconvert_exporter": "python",
   "pygments_lexer": "ipython3",
   "version": "3.10.1"
  }
 },
 "nbformat": 4,
 "nbformat_minor": 5
}
