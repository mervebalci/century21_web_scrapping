{
 "cells": [
  {
   "cell_type": "code",
   "execution_count": 1,
   "metadata": {},
   "outputs": [],
   "source": [
    "import requests\n",
    "from bs4 import BeautifulSoup"
   ]
  },
  {
   "cell_type": "code",
   "execution_count": 2,
   "id": "7e433496",
   "metadata": {},
   "outputs": [],
   "source": [
    "# This website has 3 pages. Let's load the first page and then write a loop to iterate through the next pages.\n",
    "r = requests.get(\"https://pythonizing.github.io/data/real-estate/rock-springs-wy/LCWYROCKSPRINGS/\")"
   ]
  },
  {
   "cell_type": "code",
   "execution_count": 4,
   "id": "ba583401",
   "metadata": {},
   "outputs": [],
   "source": [
    "# Content of this requests object\n",
    "c = r.content"
   ]
  },
  {
   "cell_type": "code",
   "execution_count": 6,
   "id": "da29d799",
   "metadata": {},
   "outputs": [],
   "source": [
    "# Making the content readable\n",
    "soup = BeautifulSoup(c, \"html.parser\")"
   ]
  },
  {
   "cell_type": "code",
   "execution_count": null,
   "id": "e37bf827",
   "metadata": {},
   "outputs": [],
   "source": [
    "# To understand the structure of the webpage, need to use the inspect tool in the browser"
   ]
  }
 ],
 "metadata": {
  "interpreter": {
   "hash": "e89ee5dadf05315dd55930bef42e12789955ca179309db11dfe4d2fe79967c6f"
  },
  "kernelspec": {
   "display_name": "Python 3.10.1 64-bit",
   "language": "python",
   "name": "python3"
  },
  "language_info": {
   "codemirror_mode": {
    "name": "ipython",
    "version": 3
   },
   "file_extension": ".py",
   "mimetype": "text/x-python",
   "name": "python",
   "nbconvert_exporter": "python",
   "pygments_lexer": "ipython3",
   "version": "3.10.1"
  }
 },
 "nbformat": 4,
 "nbformat_minor": 5
}
